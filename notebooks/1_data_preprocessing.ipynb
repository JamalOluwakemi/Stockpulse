{
 "cells": [
  {
   "cell_type": "markdown",
   "id": "f4f604f2",
   "metadata": {},
   "source": [
    "# Data Preprocessing\n",
    "\n",
    "This notebook focuses on the **data preprocessing** step as required in the Software Requirements Specification (SRS).  \n",
    "The raw stock data for Apple (AAPL), Amazon (AMZN), and Tesla (TSLA) is provided in CSV files inside the `Data/` folder.  \n",
    "\n",
    "The main goals of this notebook are:\n",
    "- Load the raw CSV files.\n",
    "- Explore the data structure (columns, data types, missing values).\n",
    "- Clean the data by handling missing values, formatting inconsistencies, and duplicates.\n",
    "- Merge all datasets into a single DataFrame.\n",
    "- Save the cleaned dataset to `Data/processed/cleaned_stocks.csv` for later steps (feature engineering and modeling).\n"
   ]
  },
  {
   "cell_type": "code",
   "execution_count": 1,
   "id": "7a176859",
   "metadata": {},
   "outputs": [],
   "source": [
    "import pandas as pd\n",
    "\n",
    "df1 = pd.read_csv(\"../Data/AAPL.csv\")\n",
    "df2 = pd.read_csv(\"../Data/AMZN.csv\")\n",
    "df3 = pd.read_csv(\"../Data/TSLA.csv\")\n",
    "\n",
    "df = pd.concat([df1, df2, df3], ignore_index=True)\n"
   ]
  },
  {
   "cell_type": "code",
   "execution_count": 2,
   "id": "101afc5e",
   "metadata": {},
   "outputs": [],
   "source": [
    "df.columns = df.columns.str.strip()\n"
   ]
  },
  {
   "cell_type": "code",
   "execution_count": 3,
   "id": "c7afb282",
   "metadata": {},
   "outputs": [],
   "source": [
    "df[\"Date\"] = pd.to_datetime(df[\"Date\"], errors=\"coerce\")"
   ]
  },
  {
   "cell_type": "code",
   "execution_count": 4,
   "id": "946b072a",
   "metadata": {},
   "outputs": [],
   "source": [
    "numeric_cols = [\"Open\", \"High\", \"Low\", \"Close\", \"Volume\"]\n",
    "df[numeric_cols] = df[numeric_cols].apply(pd.to_numeric, errors=\"coerce\")"
   ]
  },
  {
   "cell_type": "code",
   "execution_count": 5,
   "id": "7bf18491",
   "metadata": {},
   "outputs": [],
   "source": [
    "df = df.dropna()\n"
   ]
  },
  {
   "cell_type": "code",
   "execution_count": 7,
   "id": "3e3c8840",
   "metadata": {},
   "outputs": [],
   "source": [
    "df.to_csv(\"../Data/processed/cleaned_stocks.csv\", index=False)\n"
   ]
  },
  {
   "cell_type": "markdown",
   "id": "54776a9d",
   "metadata": {},
   "source": [
    "## Summary\n",
    "\n",
    "In this notebook, we completed the preprocessing phase of the project:  \n",
    "- Loaded raw CSV files for AAPL, AMZN, and TSLA.  \n",
    "- Performed initial exploration (checked column names, datatypes, and missing values).  \n",
    "- Cleaned the data by fixing column names, handling missing/null values, and removing duplicates.  \n",
    "- Combined all three datasets into one standardized DataFrame.  \n",
    "- Saved the cleaned dataset into `Data/processed/cleaned_stocks.csv`.  \n",
    "\n",
    " The data is now ready for the next step: **Feature Engineering**.\n"
   ]
  }
 ],
 "metadata": {
  "kernelspec": {
   "display_name": "Python 3",
   "language": "python",
   "name": "python3"
  },
  "language_info": {
   "codemirror_mode": {
    "name": "ipython",
    "version": 3
   },
   "file_extension": ".py",
   "mimetype": "text/x-python",
   "name": "python",
   "nbconvert_exporter": "python",
   "pygments_lexer": "ipython3",
   "version": "3.13.7"
  }
 },
 "nbformat": 4,
 "nbformat_minor": 5
}
